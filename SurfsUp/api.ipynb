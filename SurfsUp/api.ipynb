{
 "cells": [
  {
   "cell_type": "code",
   "execution_count": 1,
   "metadata": {},
   "outputs": [],
   "source": [
    "import numpy as np\n",
    "import datetime as dt\n",
    "\n",
    "import sqlalchemy\n",
    "from sqlalchemy.ext.automap import automap_base\n",
    "from sqlalchemy.orm import Session\n",
    "from sqlalchemy import create_engine, func\n",
    "\n",
    "from flask import Flask, jsonify"
   ]
  },
  {
   "cell_type": "code",
   "execution_count": 2,
   "metadata": {},
   "outputs": [
    {
     "data": {
      "text/plain": [
       "['measurement', 'station']"
      ]
     },
     "execution_count": 2,
     "metadata": {},
     "output_type": "execute_result"
    }
   ],
   "source": [
    "engine = create_engine(\"sqlite:///Resources/hawaii.sqlite\")\n",
    "\n",
    "# reflect an existing database into a new model\n",
    "Base = automap_base()\n",
    "Base.prepare(engine)\n",
    "\n",
    "\n",
    "# reflect the tables\n",
    "# Base.metadata.tables\n",
    "Base.classes.keys()\n"
   ]
  },
  {
   "cell_type": "code",
   "execution_count": 3,
   "metadata": {},
   "outputs": [],
   "source": [
    "# Save references to each table\n",
    "Measurement = Base.classes.measurement\n",
    "Station = Base.classes.station"
   ]
  },
  {
   "cell_type": "code",
   "execution_count": 7,
   "metadata": {},
   "outputs": [
    {
     "name": "stdout",
     "output_type": "stream",
     "text": [
      " * Serving Flask app '__main__'\n",
      " * Debug mode: off\n"
     ]
    },
    {
     "name": "stderr",
     "output_type": "stream",
     "text": [
      "WARNING: This is a development server. Do not use it in a production deployment. Use a production WSGI server instead.\n",
      " * Running on http://127.0.0.1:5000\n",
      "Press CTRL+C to quit\n"
     ]
    }
   ],
   "source": [
    "session = Session(engine)\n",
    "\n",
    "#################################################\n",
    "# Flask Setup\n",
    "#################################################\n",
    "app = Flask(__name__)\n",
    "\n",
    "#################################################\n",
    "# Flask Routes\n",
    "#################################################\n",
    "baseRoute = \"/api/v1.0\"\n",
    "route_percip = f\"{baseRoute}/precipitation\"\n",
    "route_stations = f\"{baseRoute}/tobs\"\n",
    "route_tobs = f\"{baseRoute}/tobs\"\n",
    "route_startstop = f\"{baseRoute}/<start>/<stop>\"\n",
    "\n",
    "@app.route(\"/\")\n",
    "def index():\n",
    "    \"\"\"List all available routes\"\"\"\n",
    "    return (\n",
    "        f\"Available Routes:<br/>\"\n",
    "        f\"{route_percip}<br/>\"\n",
    "        f\"{route_stations}<br/>\"\n",
    "        f\"{route_tobs}<br/>\"\n",
    "        f\"{route_startstop}\"\n",
    "    )\n",
    "\n",
    "@app.route(route_percip)\n",
    "def percip():\n",
    "    session = Session(engine)\n",
    "    sel = [Measurement.date,Measurement.prcp]\n",
    "    queryresult = session.query(*sel).all()\n",
    "    session.close()\n",
    "    \n",
    "    precipitation = []\n",
    "    for date, prcp in queryresult:\n",
    "        prcp_dict = {}\n",
    "        prcp_dict[\"Date\"] = date\n",
    "        prcp_dict[\"Precipitation\"] = prcp\n",
    "        precipitation.append(prcp_dict)\n",
    "\n",
    "    return jsonify(precipitation)\n",
    "\n",
    "\n",
    "if __name__ == '__main__':\n",
    "    app.run()\n"
   ]
  }
 ],
 "metadata": {
  "kernelspec": {
   "display_name": "base",
   "language": "python",
   "name": "python3"
  },
  "language_info": {
   "codemirror_mode": {
    "name": "ipython",
    "version": 3
   },
   "file_extension": ".py",
   "mimetype": "text/x-python",
   "name": "python",
   "nbconvert_exporter": "python",
   "pygments_lexer": "ipython3",
   "version": "3.10.9"
  },
  "orig_nbformat": 4
 },
 "nbformat": 4,
 "nbformat_minor": 2
}
